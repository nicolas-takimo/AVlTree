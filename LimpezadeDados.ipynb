{
  "nbformat": 4,
  "nbformat_minor": 0,
  "metadata": {
    "colab": {
      "provenance": [],
      "authorship_tag": "ABX9TyNBVn7bOLhoIoIM2shLMJ8S",
      "include_colab_link": true
    },
    "kernelspec": {
      "name": "python3",
      "display_name": "Python 3"
    },
    "language_info": {
      "name": "python"
    }
  },
  "cells": [
    {
      "cell_type": "markdown",
      "metadata": {
        "id": "view-in-github",
        "colab_type": "text"
      },
      "source": [
        "<a href=\"https://colab.research.google.com/github/nicolas-takimo/AVlTree/blob/main/LimpezadeDados.ipynb\" target=\"_parent\"><img src=\"https://colab.research.google.com/assets/colab-badge.svg\" alt=\"Open In Colab\"/></a>"
      ]
    },
    {
      "cell_type": "code",
      "execution_count": 1,
      "metadata": {
        "colab": {
          "base_uri": "https://localhost:8080/"
        },
        "id": "Uh2mA4MrglTT",
        "outputId": "b31af1dc-6b81-4d82-f54a-a2e4cf0d5cc2"
      },
      "outputs": [
        {
          "output_type": "stream",
          "name": "stdout",
          "text": [
            "Datasets gerados e salvos com sucesso!\n"
          ]
        },
        {
          "output_type": "stream",
          "name": "stderr",
          "text": [
            "<ipython-input-1-eb13aedc7242>:68: FutureWarning: Setting an item of incompatible dtype is deprecated and will raise an error in a future version of pandas. Value 'Erro' has dtype incompatible with float64, please explicitly cast to a compatible dtype first.\n",
            "  vendas_df.at[idx, 'Receita'] = 'Erro'  # Erro de tipo\n",
            "<ipython-input-1-eb13aedc7242>:80: FutureWarning: Setting an item of incompatible dtype is deprecated and will raise an error in a future version of pandas. Value 'Inválido' has dtype incompatible with float64, please explicitly cast to a compatible dtype first.\n",
            "  financeiro_df.at[idx, 'Margem'] = 'Inválido'  # Erro de tipo\n"
          ]
        }
      ],
      "source": [
        "import pandas as pd\n",
        "import numpy as np\n",
        "from datetime import datetime, timedelta\n",
        "import random\n",
        "\n",
        "# Função para gerar datas aleatórias para o dataset de vendas\n",
        "def random_date(start_date, end_date):\n",
        "    delta = end_date - start_date\n",
        "    random_days = random.randint(0, delta.days)\n",
        "    return start_date + timedelta(days=random_days)\n",
        "\n",
        "# Parâmetros gerais para simulação\n",
        "num_records = 500\n",
        "start_date = datetime.now() - timedelta(days=365 * 2)\n",
        "end_date = datetime.now()\n",
        "regioes = estados = ['Acre', 'Alagoas', 'Amapá', 'Amazonas', 'Bahia', 'Ceará', 'Espírito Santo', 'Goiás', 'Maranhão', 'Mato Grosso', 'Mato Grosso do Sul', 'Minas Gerais', 'Pará', 'Paraíba', 'Paraná', 'Pernambuco', 'Piauí', 'Rio de Janeiro', 'Rio Grande do Norte', 'Rio Grande do Sul', 'Rondônia', 'Roraima', 'Santa Catarina', 'São Paulo', 'Sergipe', 'Tocantins']\n",
        "tipos_produto = ['Eletrônicos', 'Roupas', 'Alimentos', 'Móveis']\n",
        "canais_aquisicao = ['Facebook', 'Instagram', 'Google Ads', 'Email', 'TV']\n",
        "segmentos_mercado = ['B2B', 'B2C']\n",
        "\n",
        "# Dataset de Vendas\n",
        "vendas_data = {\n",
        "    'Data': [random_date(start_date, end_date).strftime('%Y-%m-%d') for _ in range(num_records)],\n",
        "    'Quantidade': [random.randint(1, 20) for _ in range(num_records)],\n",
        "    'Receita': [round(random.uniform(50, 5000), 2) for _ in range(num_records)],\n",
        "    'Regiao': [random.choice(regioes) for _ in range(num_records)],\n",
        "    'Pais': ['Brasil' for _ in range(num_records)],\n",
        "    'Tipo_Produto': [random.choice(tipos_produto) for _ in range(num_records)]\n",
        "}\n",
        "vendas_df = pd.DataFrame(vendas_data)\n",
        "\n",
        "# Dataset de Clientes\n",
        "clientes_data = {\n",
        "    'ID_Cliente': range(1, num_records + 1),\n",
        "    'Idade': [random.randint(18, 70) for _ in range(num_records)],\n",
        "    'Genero': [random.choice(['Masculino', 'Feminino', 'Outro']) for _ in range(num_records)],\n",
        "    'Localizacao': [random.choice(regioes) for _ in range(num_records)],\n",
        "    'Segmento_Mercado': [random.choice(segmentos_mercado) for _ in range(num_records)]\n",
        "}\n",
        "clientes_df = pd.DataFrame(clientes_data)\n",
        "\n",
        "# Dataset Financeiro\n",
        "financeiro_data = {\n",
        "    'ID_Operacao': range(1, num_records + 1),\n",
        "    'Receita': [round(random.uniform(100, 10000), 2) for _ in range(num_records)],\n",
        "    'Custo': [round(random.uniform(50, 8000), 2) for _ in range(num_records)],\n",
        "}\n",
        "financeiro_data['Lucro'] = [round(receita - custo, 2) for receita, custo in zip(financeiro_data['Receita'], financeiro_data['Custo'])]\n",
        "financeiro_data['Margem'] = [round((lucro / receita) * 100, 2) if receita != 0 else 0 for lucro, receita in zip(financeiro_data['Lucro'], financeiro_data['Receita'])]\n",
        "financeiro_df = pd.DataFrame(financeiro_data)\n",
        "\n",
        "# Dataset de Marketing\n",
        "marketing_data = {\n",
        "    'ID_Campanha': range(1, num_records + 1),\n",
        "    'Canal_Aquisicao': [random.choice(canais_aquisicao) for _ in range(num_records)],\n",
        "    'Engajamento': [round(random.uniform(0, 100), 2) for _ in range(num_records)]\n",
        "}\n",
        "marketing_df = pd.DataFrame(marketing_data)\n",
        "\n",
        "# Introdução de dados sujos em cada dataset\n",
        "for _ in range(200):  # x registros \"sujos\" em cada dataset\n",
        "    idx = random.randint(0, num_records - 1)\n",
        "\n",
        "    # Dataset de Vendas\n",
        "    if random.choice([True, False]):\n",
        "        vendas_df.at[idx, 'Quantidade'] = np.nan  # Valor ausente\n",
        "    else:\n",
        "        vendas_df.at[idx, 'Receita'] = 'Erro'  # Erro de tipo\n",
        "\n",
        "    # Dataset de Clientes\n",
        "    if random.choice([True, False]):\n",
        "        clientes_df.at[idx, 'Idade'] = 200  # Idade fora do limite\n",
        "    else:\n",
        "        clientes_df.at[idx, 'Genero'] = 'Desconhecido'  # Valor inconsistente\n",
        "\n",
        "    # Dataset Financeiro\n",
        "    if random.choice([True, False]):\n",
        "        financeiro_df.at[idx, 'Custo'] = -50  # Valor negativo\n",
        "    else:\n",
        "        financeiro_df.at[idx, 'Margem'] = 'Inválido'  # Erro de tipo\n",
        "\n",
        "    # Dataset de Marketing\n",
        "    if random.choice([True, False]):\n",
        "        marketing_df.at[idx, 'Engajamento'] = np.nan  # Valor ausente\n",
        "    else:\n",
        "        marketing_df.at[idx, 'Canal_Aquisicao'] = 'Redes'  # Valor inconsistente\n",
        "\n",
        "# Salvando cada dataset em arquivos CSV\n",
        "vendas_df.to_csv('vendas_data.csv', index=False)\n",
        "clientes_df.to_csv('clientes_data.csv', index=False)\n",
        "financeiro_df.to_csv('financeiro_data.csv', index=False)\n",
        "marketing_df.to_csv('marketing_data.csv', index=False)\n",
        "\n",
        "print(\"Datasets gerados e salvos com sucesso!\")\n"
      ]
    },
    {
      "cell_type": "code",
      "source": [
        "vendas_df=vendas_df.drop_duplicates()\n",
        "vendas_df.to_csv('vendas_data.csv', index=False)\n",
        "\n",
        "clientes_df = clientes_df.drop_duplicates()\n",
        "clientes_df.to_csv('clientes_data.csv', index=False)\n",
        "\n",
        "financeiro_df = financeiro_df.drop_duplicates()\n",
        "financeiro_df.to_csv('financeiro_data.csv', index=False)\n",
        "\n",
        "marketing_df = marketing_df.drop_duplicates()\n",
        "marketing_df.to_csv('marketing_data.csv', index=False)\n",
        "\n"
      ],
      "metadata": {
        "id": "8_AaBTLelWcw"
      },
      "execution_count": 20,
      "outputs": []
    },
    {
      "cell_type": "code",
      "source": [
        "vendas_df['Quantidade'] = vendas_df['Quantidade'].replace(np.nan,0)\n",
        "vendas_df.to_csv('vendas_data.csv', index=False)"
      ],
      "metadata": {
        "id": "mtcsVenPmSSV"
      },
      "execution_count": 32,
      "outputs": []
    },
    {
      "cell_type": "code",
      "source": [
        "vendas_df['Receita'] = vendas_df['Receita'].replace('Erro',0)\n",
        "vendas_df.to_csv('vendas_data.csv', index=False)"
      ],
      "metadata": {
        "id": "tY1XrtPFoQ_d"
      },
      "execution_count": 34,
      "outputs": []
    },
    {
      "cell_type": "code",
      "source": [
        "vendas_df['Receita'] = vendas_df['Receita'].replace(0,vendas_df['Receita'].mean())\n",
        "vendas_df.to_csv('vendas_data.csv', index=False)"
      ],
      "metadata": {
        "id": "For4AnhuopJM"
      },
      "execution_count": 37,
      "outputs": []
    },
    {
      "cell_type": "code",
      "source": [
        "clientes_df['Idade'] = clientes_df['Idade'].replace(200,clientes_df['Idade'].mean())\n",
        "clientes_df.to_csv('clientes_data.csv', index=False)\n"
      ],
      "metadata": {
        "id": "XuDnvg5kpYjx"
      },
      "execution_count": 38,
      "outputs": []
    },
    {
      "cell_type": "code",
      "source": [
        "clientes_df['Idade'] = clientes_df['Idade'].astype(int)\n",
        "clientes_df.to_csv('clientes_data.csv', index=False)"
      ],
      "metadata": {
        "id": "1avUY5hDp6l5"
      },
      "execution_count": 40,
      "outputs": []
    },
    {
      "cell_type": "code",
      "source": [
        "clientes_df['Genero'] = clientes_df['Genero'].replace('Desconhecido','Outro')\n",
        "clientes_df.to_csv('clientes_data.csv', index=False)"
      ],
      "metadata": {
        "id": "WKkxK8cCqet2"
      },
      "execution_count": 41,
      "outputs": []
    },
    {
      "cell_type": "code",
      "source": [
        "financeiro_df.loc[financeiro_df['Custo'] < 0, 'Custo'] = financeiro_df['Custo'].mean()\n",
        "financeiro_df.to_csv('financeiro_data.csv', index=False)\n"
      ],
      "metadata": {
        "id": "B3Wx1wgLrL8M"
      },
      "execution_count": 44,
      "outputs": []
    },
    {
      "cell_type": "code",
      "source": [
        "financeiro_df['Margem'] = financeiro_df['Margem'].replace(0,financeiro_df['Margem'].mean())\n",
        "financeiro_df.to_csv('financeiro_data.csv', index=False)\n",
        "#"
      ],
      "metadata": {
        "id": "qW1M53J9tPIU"
      },
      "execution_count": 48,
      "outputs": []
    },
    {
      "cell_type": "code",
      "source": [
        "marketing_df['Engajamento'] = marketing_df['Engajamento'].replace(np.nan,0)\n",
        "marketing_df.to_csv('marketing_data.csv', index=False)\n",
        "#"
      ],
      "metadata": {
        "id": "r4pu2RlMtc6Z"
      },
      "execution_count": 49,
      "outputs": []
    },
    {
      "cell_type": "code",
      "source": [
        "marketing_df['Engajamento'] = marketing_df['Engajamento'].astype(int)\n",
        "marketing_df.to_csv('marketing_data.csv', index=False)\n",
        "#"
      ],
      "metadata": {
        "id": "BdbYwxVvuKv_"
      },
      "execution_count": 52,
      "outputs": []
    },
    {
      "cell_type": "code",
      "source": [
        "marketing_df['Engajamento']=marketing_df['Engajamento'].replace(0,marketing_df['Engajamento'].mean())\n",
        "marketing_df.to_csv('marketing_data.csv', index=False)"
      ],
      "metadata": {
        "id": "J4iazIwOuUhg"
      },
      "execution_count": 51,
      "outputs": []
    }
  ]
}